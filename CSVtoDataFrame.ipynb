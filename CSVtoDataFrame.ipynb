{
 "cells": [
  {
   "cell_type": "markdown",
   "metadata": {
    "collapsed": true
   },
   "source": [
    "# Night Three"
   ]
  },
  {
   "cell_type": "markdown",
   "metadata": {},
   "source": [
    "Read in enron.txt"
   ]
  },
  {
   "cell_type": "code",
   "execution_count": 67,
   "metadata": {
    "collapsed": false
   },
   "outputs": [],
   "source": [
    "##import libraries\n",
    "import os\n",
    "import json\n",
    "\n",
    "##read in enron.txt file\n",
    "path = (\"/Users/jacobjones/nightthree/enron.txt\")\n",
    "records = [json.loads(line) for line in open(path, \"rt\")]\n",
    "\n",
    "##remove .txt files if they're existing\n",
    "for x in range(0,30):\n",
    "    try:\n",
    "        os.remove(\"/Users/jacobjones/nightthree/enron.txt\")\n",
    "    except:\n",
    "        pass\n",
    "\n",
    "##import libraries to put into a data frame\n",
    "from pandas import DataFrame, Series\n",
    "import pandas as pd\n",
    "\n",
    "##transforms into dicts into dataframe\n",
    "frame = DataFrame(records)\n",
    "\n",
    "frame[:30]++\n",
    "\n",
    "##transforms dicts into individual .txt files -- should have 0 - 29\n",
    "d = frame[:30]\n",
    "file = 'file{}.txt'\n",
    "\n",
    "\n",
    "n = 0\n",
    "for row in d.iterrows():\n",
    "    with open(file.format(n), 'w') as f:\n",
    "        f.write(str(row))\n",
    "        n += 1 "
   ]
  },
  {
   "cell_type": "code",
   "execution_count": null,
   "metadata": {
    "collapsed": true
   },
   "outputs": [],
   "source": []
  },
  {
   "cell_type": "code",
   "execution_count": null,
   "metadata": {
    "collapsed": true
   },
   "outputs": [],
   "source": []
  }
 ],
 "metadata": {
  "kernelspec": {
   "display_name": "Python 3",
   "language": "python",
   "name": "python3"
  },
  "language_info": {
   "codemirror_mode": {
    "name": "ipython",
    "version": 3
   },
   "file_extension": ".py",
   "mimetype": "text/x-python",
   "name": "python",
   "nbconvert_exporter": "python",
   "pygments_lexer": "ipython3",
   "version": "3.5.1"
  }
 },
 "nbformat": 4,
 "nbformat_minor": 0
}
