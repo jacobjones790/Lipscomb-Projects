{
 "cells": [
  {
   "cell_type": "code",
   "execution_count": 1,
   "metadata": {
    "collapsed": false
   },
   "outputs": [
    {
     "ename": "SyntaxError",
     "evalue": "invalid syntax (<ipython-input-1-7569e2495740>, line 1)",
     "output_type": "error",
     "traceback": [
      "\u001b[0;36m  File \u001b[0;32m\"<ipython-input-1-7569e2495740>\"\u001b[0;36m, line \u001b[0;32m1\u001b[0m\n\u001b[0;31m    This is my first gust code snippet\u001b[0m\n\u001b[0m                   ^\u001b[0m\n\u001b[0;31mSyntaxError\u001b[0m\u001b[0;31m:\u001b[0m invalid syntax\n"
     ]
    }
   ],
   "source": [
    "This is my first gust code snippet"
   ]
  },
  {
   "cell_type": "code",
   "execution_count": 2,
   "metadata": {
    "collapsed": true
   },
   "outputs": [],
   "source": [
    "##This is my first gist code snippet"
   ]
  },
  {
   "cell_type": "code",
   "execution_count": 3,
   "metadata": {
    "collapsed": true
   },
   "outputs": [],
   "source": [
    "##It's just the popular FizzBuzz function coded in Python"
   ]
  },
  {
   "cell_type": "code",
   "execution_count": null,
   "metadata": {
    "collapsed": true
   },
   "outputs": [],
   "source": []
  },
  {
   "cell_type": "code",
   "execution_count": 7,
   "metadata": {
    "collapsed": false
   },
   "outputs": [],
   "source": [
    "def fizzbuzz():\n",
    "    for i in range(101):\n",
    "        if(i%3==0) and (i%5==0):\n",
    "            print ('FizzBuzz this is'), i\n",
    "        elif i%3==0:\n",
    "            print ('Fizz this is'), i\n",
    "        elif i%5==0:\n",
    "            print ('Buzz this is'), i\n",
    "        else:\n",
    "            print (i)"
   ]
  },
  {
   "cell_type": "code",
   "execution_count": 8,
   "metadata": {
    "collapsed": false
   },
   "outputs": [
    {
     "name": "stdout",
     "output_type": "stream",
     "text": [
      "FizzBuzz this is\n",
      "1\n",
      "2\n",
      "Fizz this is\n",
      "4\n",
      "Buzz this is\n",
      "Fizz this is\n",
      "7\n",
      "8\n",
      "Fizz this is\n",
      "Buzz this is\n",
      "11\n",
      "Fizz this is\n",
      "13\n",
      "14\n",
      "FizzBuzz this is\n",
      "16\n",
      "17\n",
      "Fizz this is\n",
      "19\n",
      "Buzz this is\n",
      "Fizz this is\n",
      "22\n",
      "23\n",
      "Fizz this is\n",
      "Buzz this is\n",
      "26\n",
      "Fizz this is\n",
      "28\n",
      "29\n",
      "FizzBuzz this is\n",
      "31\n",
      "32\n",
      "Fizz this is\n",
      "34\n",
      "Buzz this is\n",
      "Fizz this is\n",
      "37\n",
      "38\n",
      "Fizz this is\n",
      "Buzz this is\n",
      "41\n",
      "Fizz this is\n",
      "43\n",
      "44\n",
      "FizzBuzz this is\n",
      "46\n",
      "47\n",
      "Fizz this is\n",
      "49\n",
      "Buzz this is\n",
      "Fizz this is\n",
      "52\n",
      "53\n",
      "Fizz this is\n",
      "Buzz this is\n",
      "56\n",
      "Fizz this is\n",
      "58\n",
      "59\n",
      "FizzBuzz this is\n",
      "61\n",
      "62\n",
      "Fizz this is\n",
      "64\n",
      "Buzz this is\n",
      "Fizz this is\n",
      "67\n",
      "68\n",
      "Fizz this is\n",
      "Buzz this is\n",
      "71\n",
      "Fizz this is\n",
      "73\n",
      "74\n",
      "FizzBuzz this is\n",
      "76\n",
      "77\n",
      "Fizz this is\n",
      "79\n",
      "Buzz this is\n",
      "Fizz this is\n",
      "82\n",
      "83\n",
      "Fizz this is\n",
      "Buzz this is\n",
      "86\n",
      "Fizz this is\n",
      "88\n",
      "89\n",
      "FizzBuzz this is\n",
      "91\n",
      "92\n",
      "Fizz this is\n",
      "94\n",
      "Buzz this is\n",
      "Fizz this is\n",
      "97\n",
      "98\n",
      "Fizz this is\n",
      "Buzz this is\n"
     ]
    }
   ],
   "source": [
    "fizzbuzz()"
   ]
  },
  {
   "cell_type": "code",
   "execution_count": null,
   "metadata": {
    "collapsed": true
   },
   "outputs": [],
   "source": []
  }
 ],
 "metadata": {
  "kernelspec": {
   "display_name": "Python 3",
   "language": "python",
   "name": "python3"
  },
  "language_info": {
   "codemirror_mode": {
    "name": "ipython",
    "version": 3
   },
   "file_extension": ".py",
   "mimetype": "text/x-python",
   "name": "python",
   "nbconvert_exporter": "python",
   "pygments_lexer": "ipython3",
   "version": "3.5.1"
  }
 },
 "nbformat": 4,
 "nbformat_minor": 0
}
